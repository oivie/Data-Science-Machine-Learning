{
  "nbformat": 4,
  "nbformat_minor": 0,
  "metadata": {
    "colab": {
      "provenance": [],
      "gpuType": "T4"
    },
    "kernelspec": {
      "name": "python3",
      "display_name": "Python 3"
    },
    "language_info": {
      "name": "python"
    },
    "accelerator": "GPU"
  },
  "cells": [
    {
      "cell_type": "markdown",
      "source": [
        "# **author: Elena Pashkova**\n",
        "dataset: FashionMNIST\n",
        "\n",
        "**Objective:**\n",
        "*   Understand the basics of Recurrent Neural Networks (RNNs) and their application in deep learning.\n",
        "*   Practice building and training RNN models for real-world problems.\n",
        "\n"
      ],
      "metadata": {
        "id": "3NWb4QCXCHl-"
      }
    },
    {
      "cell_type": "markdown",
      "source": [
        "# **Understanding RNN Basics**\n",
        "**Basic Architecture of RNNs and How They Differ from Traditional Feedforward Neural Networks**\n",
        "\n",
        "Recurrent Neural Networks (RNNs) are a type of neural network architecture designed to handle sequential data by maintaining a \"memory\" of previous inputs. Unlike traditional feedforward neural networks, which process inputs independently, RNNs have connections that allow information to persist, creating dependencies between inputs over time. In an RNN, the output from each step depends not only on the current input but also on the output from the previous step. This is achieved through a loop within the network that enables the model to pass information from one step of the sequence to the next.\n",
        "\n",
        "In a traditional feedforward neural network, information flows in one direction — from the input layer, through the hidden layers, to the output layer. Each input is processed independently, which makes it unsuitable for tasks where context from previous inputs is needed, such as language processing or time series prediction. RNNs, with their ability to process sequential data, are more effective in these cases.\n",
        "\n",
        "---\n",
        "\n",
        "**The Concept of \"Short-Term Memory\" in RNNs**\n",
        "\n",
        "The \"short-term memory\" in RNNs refers to the network's ability to retain information from previous time steps within a sequence. This memory allows RNNs to capture dependencies in data, such as the context of a word in a sentence based on prior words. However, this memory is inherently limited, as RNNs can struggle with maintaining information over long sequences. This issue is known as the \"vanishing gradient problem,\" where gradients become very small as they are backpropagated through time, leading to a loss of long-term information.\n",
        "\n",
        "Short-term memory makes RNNs suitable for tasks where recent past information is crucial, but they may struggle with longer dependencies. Variants like LSTMs (Long Short-Term Memory networks) and GRUs (Gated Recurrent Units) have been developed to improve the network's ability to maintain information over longer periods.\n",
        "\n",
        "---\n",
        "\n",
        "**Advantages and Disadvantages of Using RNNs**\n",
        "\n",
        "*Advantages:*\n",
        "\n",
        "*   Sequential Processing: RNNs are designed to handle sequential data, making them suitable for tasks like natural language processing and time series forecasting, where order and context matter.\n",
        "*   Temporal Dependencies: RNNs can capture dependencies between time steps in data, enabling them to understand relationships within a sequence (e.g., predicting the next word in a sentence based on previous words).\n",
        "\n",
        "\n",
        "*Disadvantages:*\n",
        "\n",
        "\n",
        "*   Vanishing Gradient Problem: RNNs can suffer from the vanishing gradient problem, which makes it difficult for them to learn long-term dependencies.\n",
        "*   High Computational Cost: RNNs are more computationally intensive than feedforward networks due to their recurrent nature, which requires sequential processing and makes parallelization challenging.\n",
        "\n",
        "\n",
        "These are key aspects to consider when using RNNs in different types of machine learning tasks.\n",
        "\n",
        "\n"
      ],
      "metadata": {
        "id": "KXCIcbiOCY74"
      }
    },
    {
      "cell_type": "markdown",
      "source": [
        "# **PyTorch Implementation **"
      ],
      "metadata": {
        "id": "MwJRSS-bD7bi"
      }
    },
    {
      "cell_type": "code",
      "source": [
        "# Install and Import Libraries\n",
        "import torch\n",
        "import torch.nn as nn\n",
        "import torch.optim as optim\n",
        "from torchvision import datasets, transforms\n",
        "from torch.utils.data import DataLoader\n",
        "import matplotlib.pyplot as plt"
      ],
      "metadata": {
        "id": "m-BDgC6ED_z5"
      },
      "execution_count": 1,
      "outputs": []
    },
    {
      "cell_type": "code",
      "source": [
        "# Load and Preprocess the Fashion-MNIST Dataset\n",
        "\n",
        "# Define transformations for the dataset\n",
        "transform = transforms.Compose([\n",
        "    transforms.ToTensor(),\n",
        "    transforms.Normalize((0.5,), (0.5,))  # Normalize to [-1, 1] range\n",
        "])\n",
        "\n",
        "# Download and load the Fashion-MNIST dataset\n",
        "train_dataset = datasets.FashionMNIST(root='./data', train=True, transform=transform, download=True)\n",
        "test_dataset = datasets.FashionMNIST(root='./data', train=False, transform=transform, download=True)\n",
        "\n",
        "train_loader = DataLoader(dataset=train_dataset, batch_size=64, shuffle=True)\n",
        "test_loader = DataLoader(dataset=test_dataset, batch_size=64, shuffle=False)\n"
      ],
      "metadata": {
        "id": "YC7VAuZ-EH0P"
      },
      "execution_count": 2,
      "outputs": []
    },
    {
      "cell_type": "code",
      "source": [
        "# Set Hyperparameters and Instantiate the Model\n",
        "\n",
        "# Hyperparameters\n",
        "input_size = 28          # Each row of pixels as one time step\n",
        "sequence_length = 28      # Number of rows\n",
        "hidden_size = 256         # Increased hidden size\n",
        "num_layers = 3            # Increased number of layers\n",
        "num_classes = 10\n",
        "learning_rate = 0.0005    # Reduced learning rate\n",
        "num_epochs = 15           # Increased number of epochs"
      ],
      "metadata": {
        "id": "t9MfUxbuEnTg"
      },
      "execution_count": 3,
      "outputs": []
    },
    {
      "cell_type": "code",
      "source": [
        "# Define the RNN Model\n",
        "\n",
        "# Define the updated RNN model with modified hidden size and number of layers\n",
        "class FashionMNISTRNN(nn.Module):\n",
        "    def __init__(self, input_size=28, hidden_size=256, num_layers=3, num_classes=10):\n",
        "        super(FashionMNISTRNN, self).__init__()\n",
        "        self.hidden_size = hidden_size\n",
        "        self.num_layers = num_layers\n",
        "\n",
        "        # Define the RNN layer\n",
        "        self.rnn = nn.RNN(input_size, hidden_size, num_layers, batch_first=True)\n",
        "\n",
        "        # Define a fully connected output layer\n",
        "        self.fc = nn.Linear(hidden_size, num_classes)\n",
        "\n",
        "    def forward(self, x):\n",
        "        # Set initial hidden state\n",
        "        h0 = torch.zeros(self.num_layers, x.size(0), self.hidden_size).to(x.device)\n",
        "\n",
        "        # Forward propagate RNN\n",
        "        out, _ = self.rnn(x, h0)\n",
        "\n",
        "        # Get the last time step's output\n",
        "        out = self.fc(out[:, -1, :])\n",
        "        return out"
      ],
      "metadata": {
        "id": "hE5PeYwBEZ7r"
      },
      "execution_count": 4,
      "outputs": []
    },
    {
      "cell_type": "code",
      "source": [
        "# Initialize model, loss function, and optimizer with updated hyperparameters\n",
        "model = FashionMNISTRNN(input_size, hidden_size, num_layers, num_classes).to('cuda')\n",
        "criterion = nn.CrossEntropyLoss()\n",
        "optimizer = optim.Adam(model.parameters(), lr=learning_rate)"
      ],
      "metadata": {
        "id": "2VaYbI6GGLlX"
      },
      "execution_count": 5,
      "outputs": []
    },
    {
      "cell_type": "code",
      "source": [
        "# Train the Model\n",
        "\n",
        "# Training loop with increased epochs\n",
        "for epoch in range(num_epochs):\n",
        "    for i, (images, labels) in enumerate(train_loader):\n",
        "        # Reshape images to (batch_size, sequence_length, input_size)\n",
        "        images = images.reshape(-1, sequence_length, input_size).to('cuda')\n",
        "        labels = labels.to('cuda')\n",
        "\n",
        "        # Forward pass\n",
        "        outputs = model(images)\n",
        "        loss = criterion(outputs, labels)\n",
        "\n",
        "        # Backward pass and optimization\n",
        "        optimizer.zero_grad()\n",
        "        loss.backward()\n",
        "        optimizer.step()\n",
        "\n",
        "        if (i+1) % 100 == 0:\n",
        "            print(f'Epoch [{epoch+1}/{num_epochs}], Step [{i+1}/{len(train_loader)}], Loss: {loss.item():.4f}')"
      ],
      "metadata": {
        "colab": {
          "base_uri": "https://localhost:8080/"
        },
        "id": "uIm0I0ccEsQ9",
        "outputId": "99cb4758-b786-4b0c-b999-172e8ac5cc56"
      },
      "execution_count": 6,
      "outputs": [
        {
          "output_type": "stream",
          "name": "stdout",
          "text": [
            "Epoch [1/15], Step [100/938], Loss: 0.9122\n",
            "Epoch [1/15], Step [200/938], Loss: 1.1335\n",
            "Epoch [1/15], Step [300/938], Loss: 0.9104\n",
            "Epoch [1/15], Step [400/938], Loss: 0.6759\n",
            "Epoch [1/15], Step [500/938], Loss: 0.8442\n",
            "Epoch [1/15], Step [600/938], Loss: 0.8974\n",
            "Epoch [1/15], Step [700/938], Loss: 0.5176\n",
            "Epoch [1/15], Step [800/938], Loss: 0.7636\n",
            "Epoch [1/15], Step [900/938], Loss: 0.5517\n",
            "Epoch [2/15], Step [100/938], Loss: 0.5240\n",
            "Epoch [2/15], Step [200/938], Loss: 0.4474\n",
            "Epoch [2/15], Step [300/938], Loss: 0.5894\n",
            "Epoch [2/15], Step [400/938], Loss: 0.4304\n",
            "Epoch [2/15], Step [500/938], Loss: 0.5670\n",
            "Epoch [2/15], Step [600/938], Loss: 0.3353\n",
            "Epoch [2/15], Step [700/938], Loss: 0.4719\n",
            "Epoch [2/15], Step [800/938], Loss: 0.4875\n",
            "Epoch [2/15], Step [900/938], Loss: 0.5165\n",
            "Epoch [3/15], Step [100/938], Loss: 0.3071\n",
            "Epoch [3/15], Step [200/938], Loss: 0.4747\n",
            "Epoch [3/15], Step [300/938], Loss: 0.3406\n",
            "Epoch [3/15], Step [400/938], Loss: 0.4456\n",
            "Epoch [3/15], Step [500/938], Loss: 0.6209\n",
            "Epoch [3/15], Step [600/938], Loss: 0.3133\n",
            "Epoch [3/15], Step [700/938], Loss: 0.3957\n",
            "Epoch [3/15], Step [800/938], Loss: 0.7914\n",
            "Epoch [3/15], Step [900/938], Loss: 0.4684\n",
            "Epoch [4/15], Step [100/938], Loss: 0.5153\n",
            "Epoch [4/15], Step [200/938], Loss: 0.3990\n",
            "Epoch [4/15], Step [300/938], Loss: 0.5676\n",
            "Epoch [4/15], Step [400/938], Loss: 0.4429\n",
            "Epoch [4/15], Step [500/938], Loss: 0.4111\n",
            "Epoch [4/15], Step [600/938], Loss: 0.4852\n",
            "Epoch [4/15], Step [700/938], Loss: 0.4048\n",
            "Epoch [4/15], Step [800/938], Loss: 0.4706\n",
            "Epoch [4/15], Step [900/938], Loss: 0.4958\n",
            "Epoch [5/15], Step [100/938], Loss: 0.3088\n",
            "Epoch [5/15], Step [200/938], Loss: 0.3961\n",
            "Epoch [5/15], Step [300/938], Loss: 0.3696\n",
            "Epoch [5/15], Step [400/938], Loss: 0.3601\n",
            "Epoch [5/15], Step [500/938], Loss: 0.3832\n",
            "Epoch [5/15], Step [600/938], Loss: 0.6064\n",
            "Epoch [5/15], Step [700/938], Loss: 0.4451\n",
            "Epoch [5/15], Step [800/938], Loss: 0.5365\n",
            "Epoch [5/15], Step [900/938], Loss: 0.5884\n",
            "Epoch [6/15], Step [100/938], Loss: 0.6256\n",
            "Epoch [6/15], Step [200/938], Loss: 0.6803\n",
            "Epoch [6/15], Step [300/938], Loss: 0.5831\n",
            "Epoch [6/15], Step [400/938], Loss: 0.5161\n",
            "Epoch [6/15], Step [500/938], Loss: 0.5536\n",
            "Epoch [6/15], Step [600/938], Loss: 0.3979\n",
            "Epoch [6/15], Step [700/938], Loss: 0.5133\n",
            "Epoch [6/15], Step [800/938], Loss: 0.3419\n",
            "Epoch [6/15], Step [900/938], Loss: 0.4314\n",
            "Epoch [7/15], Step [100/938], Loss: 0.2493\n",
            "Epoch [7/15], Step [200/938], Loss: 0.4207\n",
            "Epoch [7/15], Step [300/938], Loss: 0.5886\n",
            "Epoch [7/15], Step [400/938], Loss: 0.3688\n",
            "Epoch [7/15], Step [500/938], Loss: 0.4059\n",
            "Epoch [7/15], Step [600/938], Loss: 0.5517\n",
            "Epoch [7/15], Step [700/938], Loss: 0.6754\n",
            "Epoch [7/15], Step [800/938], Loss: 0.2771\n",
            "Epoch [7/15], Step [900/938], Loss: 0.4312\n",
            "Epoch [8/15], Step [100/938], Loss: 0.4838\n",
            "Epoch [8/15], Step [200/938], Loss: 0.3407\n",
            "Epoch [8/15], Step [300/938], Loss: 0.2918\n",
            "Epoch [8/15], Step [400/938], Loss: 0.6116\n",
            "Epoch [8/15], Step [500/938], Loss: 0.5775\n",
            "Epoch [8/15], Step [600/938], Loss: 0.3528\n",
            "Epoch [8/15], Step [700/938], Loss: 0.4829\n",
            "Epoch [8/15], Step [800/938], Loss: 0.5014\n",
            "Epoch [8/15], Step [900/938], Loss: 0.3453\n",
            "Epoch [9/15], Step [100/938], Loss: 0.4379\n",
            "Epoch [9/15], Step [200/938], Loss: 0.4186\n",
            "Epoch [9/15], Step [300/938], Loss: 0.2917\n",
            "Epoch [9/15], Step [400/938], Loss: 0.4033\n",
            "Epoch [9/15], Step [500/938], Loss: 0.5982\n",
            "Epoch [9/15], Step [600/938], Loss: 0.4037\n",
            "Epoch [9/15], Step [700/938], Loss: 0.3777\n",
            "Epoch [9/15], Step [800/938], Loss: 0.1972\n",
            "Epoch [9/15], Step [900/938], Loss: 0.2975\n",
            "Epoch [10/15], Step [100/938], Loss: 0.2798\n",
            "Epoch [10/15], Step [200/938], Loss: 0.2864\n",
            "Epoch [10/15], Step [300/938], Loss: 0.5678\n",
            "Epoch [10/15], Step [400/938], Loss: 0.4040\n",
            "Epoch [10/15], Step [500/938], Loss: 0.2540\n",
            "Epoch [10/15], Step [600/938], Loss: 0.4532\n",
            "Epoch [10/15], Step [700/938], Loss: 0.3791\n",
            "Epoch [10/15], Step [800/938], Loss: 0.1877\n",
            "Epoch [10/15], Step [900/938], Loss: 0.4067\n",
            "Epoch [11/15], Step [100/938], Loss: 0.6582\n",
            "Epoch [11/15], Step [200/938], Loss: 0.5004\n",
            "Epoch [11/15], Step [300/938], Loss: 0.2129\n",
            "Epoch [11/15], Step [400/938], Loss: 0.2979\n",
            "Epoch [11/15], Step [500/938], Loss: 0.3544\n",
            "Epoch [11/15], Step [600/938], Loss: 0.3156\n",
            "Epoch [11/15], Step [700/938], Loss: 0.4562\n",
            "Epoch [11/15], Step [800/938], Loss: 0.3049\n",
            "Epoch [11/15], Step [900/938], Loss: 0.3679\n",
            "Epoch [12/15], Step [100/938], Loss: 0.4952\n",
            "Epoch [12/15], Step [200/938], Loss: 0.4624\n",
            "Epoch [12/15], Step [300/938], Loss: 0.3562\n",
            "Epoch [12/15], Step [400/938], Loss: 0.5313\n",
            "Epoch [12/15], Step [500/938], Loss: 0.3789\n",
            "Epoch [12/15], Step [600/938], Loss: 0.3607\n",
            "Epoch [12/15], Step [700/938], Loss: 0.3991\n",
            "Epoch [12/15], Step [800/938], Loss: 0.4323\n",
            "Epoch [12/15], Step [900/938], Loss: 0.5785\n",
            "Epoch [13/15], Step [100/938], Loss: 0.4515\n",
            "Epoch [13/15], Step [200/938], Loss: 0.6984\n",
            "Epoch [13/15], Step [300/938], Loss: 0.3948\n",
            "Epoch [13/15], Step [400/938], Loss: 0.2863\n",
            "Epoch [13/15], Step [500/938], Loss: 0.2708\n",
            "Epoch [13/15], Step [600/938], Loss: 0.4109\n",
            "Epoch [13/15], Step [700/938], Loss: 0.2186\n",
            "Epoch [13/15], Step [800/938], Loss: 0.4340\n",
            "Epoch [13/15], Step [900/938], Loss: 0.5037\n",
            "Epoch [14/15], Step [100/938], Loss: 0.3565\n",
            "Epoch [14/15], Step [200/938], Loss: 0.2263\n",
            "Epoch [14/15], Step [300/938], Loss: 0.3873\n",
            "Epoch [14/15], Step [400/938], Loss: 0.2446\n",
            "Epoch [14/15], Step [500/938], Loss: 0.3385\n",
            "Epoch [14/15], Step [600/938], Loss: 0.4592\n",
            "Epoch [14/15], Step [700/938], Loss: 0.2582\n",
            "Epoch [14/15], Step [800/938], Loss: 0.3778\n",
            "Epoch [14/15], Step [900/938], Loss: 0.3522\n",
            "Epoch [15/15], Step [100/938], Loss: 0.2678\n",
            "Epoch [15/15], Step [200/938], Loss: 0.3562\n",
            "Epoch [15/15], Step [300/938], Loss: 0.6974\n",
            "Epoch [15/15], Step [400/938], Loss: 0.3609\n",
            "Epoch [15/15], Step [500/938], Loss: 0.3609\n",
            "Epoch [15/15], Step [600/938], Loss: 0.2447\n",
            "Epoch [15/15], Step [700/938], Loss: 0.2277\n",
            "Epoch [15/15], Step [800/938], Loss: 0.4434\n",
            "Epoch [15/15], Step [900/938], Loss: 0.4392\n"
          ]
        }
      ]
    },
    {
      "cell_type": "code",
      "source": [
        "# Test the model\n",
        "\n",
        "model.eval()  # Set model to evaluation mode\n",
        "with torch.no_grad():\n",
        "    correct = 0\n",
        "    total = 0\n",
        "    for images, labels in test_loader:\n",
        "        images = images.reshape(-1, sequence_length, input_size).to('cuda')\n",
        "        labels = labels.to('cuda')\n",
        "        outputs = model(images)\n",
        "        _, predicted = torch.max(outputs.data, 1)\n",
        "        total += labels.size(0)\n",
        "        correct += (predicted == labels).sum().item()\n",
        "\n",
        "    print(f'Accuracy on the test set: {100 * correct / total:.2f}%')\n"
      ],
      "metadata": {
        "colab": {
          "base_uri": "https://localhost:8080/"
        },
        "id": "xBrgdpQ4Ex2D",
        "outputId": "8a0ccb10-27f4-40fb-89f8-374d64f59429"
      },
      "execution_count": 7,
      "outputs": [
        {
          "output_type": "stream",
          "name": "stdout",
          "text": [
            "Accuracy on the test set: 85.70%\n"
          ]
        }
      ]
    },
    {
      "cell_type": "markdown",
      "source": [
        "**Short summaryy of improvements done to the model, between previous version and this:**\n",
        "\n",
        "**Before:**Initially, the RNN model had a hidden_size of 128, num_layers set to 2, a learning rate of 0.001, and was trained for only 5 epochs. The model's loss fluctuated considerably, and the accuracy on the test set was moderate, indicating some instability in training and limited learning capacity.\n",
        "\n",
        "**What Changed:** I increased the hidden_size to 256, num_layers to 3, reduced the learning rate to 0.0005, and extended the training to 15 epochs. These adjustments aimed to improve model capacity, stabilize training, and allow the model more time to converge.\n",
        "\n",
        "**Improvement**: The changes resulted in smoother loss reduction, better stability in training, and improved test accuracy, reaching 85.70%. The model now shows stronger generalization and a better ability to capture complex patterns in the Fashion-MNIST dataset.\n",
        "\n",
        "**Next Steps:**\n",
        "To further improve the model, you might consider:\n",
        "\n",
        "\n",
        "*   Trying LSTM or GRU Layers: Since they handle long-term dependencies better, they might further boost performance.\n",
        "*   Experimenting with Dropout: Adding dropout layers can prevent potential overfitting, especially with a larger model.\n",
        "*   Fine-Tuning Hyperparameters: Minor adjustments to learning rate, batch size, or hidden layer size could yield slight performance boosts.\n"
      ],
      "metadata": {
        "id": "mV5vd6RCINJn"
      }
    },
    {
      "cell_type": "markdown",
      "source": [
        "**Additional Testing with Precision, Recall, and F1 Score**"
      ],
      "metadata": {
        "id": "ffflxe0yKcEh"
      }
    },
    {
      "cell_type": "code",
      "source": [
        "from sklearn.metrics import precision_score, recall_score, f1_score"
      ],
      "metadata": {
        "id": "Zs7va7h7KfhL"
      },
      "execution_count": 11,
      "outputs": []
    },
    {
      "cell_type": "code",
      "source": [
        "# Collect predictions and labels\n",
        "all_preds = []\n",
        "all_labels = []\n",
        "\n",
        "model.eval()  # Set the model to evaluation mode\n",
        "with torch.no_grad():  # Turn off gradients for testing\n",
        "    for images, labels in test_loader:\n",
        "        images = images.reshape(-1, sequence_length, input_size).to('cuda')\n",
        "        labels = labels.to('cuda')\n",
        "        outputs = model(images)\n",
        "        _, predicted = torch.max(outputs, 1)\n",
        "        all_preds.extend(predicted.cpu().numpy())\n",
        "        all_labels.extend(labels.cpu().numpy())\n",
        "\n",
        "# Now calculate precision, recall, and F1 score\n",
        "from sklearn.metrics import precision_score, recall_score, f1_score\n",
        "\n",
        "precision = precision_score(all_labels, all_preds, average='weighted')\n",
        "recall = recall_score(all_labels, all_preds, average='weighted')\n",
        "f1 = f1_score(all_labels, all_preds, average='weighted')\n",
        "\n",
        "print(f\"Precision: {precision:.4f}\")\n",
        "print(f\"Recall: {recall:.4f}\")\n",
        "print(f\"F1 Score: {f1:.4f}\")"
      ],
      "metadata": {
        "colab": {
          "base_uri": "https://localhost:8080/"
        },
        "id": "BRTGe1MZKij7",
        "outputId": "d0a5043d-ff95-4d1f-e06c-10fb25e36996"
      },
      "execution_count": 13,
      "outputs": [
        {
          "output_type": "stream",
          "name": "stdout",
          "text": [
            "Precision: 0.8633\n",
            "Recall: 0.8570\n",
            "F1 Score: 0.8582\n"
          ]
        }
      ]
    },
    {
      "cell_type": "markdown",
      "source": [
        "The model achieved an accuracy of 85.70% on the test set. Additional evaluation metrics indicate a precision of 86.33%, recall of 85.70%, and an F1 score of 85.82%. These metrics suggest that the model has a balanced performance in correctly identifying the Fashion-MNIST categories, with good precision and recall, which confirms its ability to generalize well to new data. Overall, the model demonstrates effective classification capabilities for this dataset.\n",
        "\n",
        "If further improvements are desired, fine-tuning hyperparameters or experimenting with different RNN architectures like LSTMs could be considered."
      ],
      "metadata": {
        "id": "gLqg0lcxK_F5"
      }
    },
    {
      "cell_type": "markdown",
      "source": [
        "**Visualization**\n"
      ],
      "metadata": {
        "id": "BEbvTOLxJDCw"
      }
    },
    {
      "cell_type": "code",
      "source": [
        "# Visualization\n",
        "import numpy as np\n",
        "import matplotlib.pyplot as plt"
      ],
      "metadata": {
        "id": "TAvnH3O4JCHK"
      },
      "execution_count": 9,
      "outputs": []
    },
    {
      "cell_type": "code",
      "source": [
        "# Get a batch of test images and labels\n",
        "dataiter = iter(test_loader)\n",
        "images, labels = next(dataiter)  # Use next(dataiter) directly\n",
        "images = images[:5].reshape(-1, sequence_length, input_size).to('cuda')\n",
        "labels = labels[:5].to('cuda')\n",
        "\n",
        "# Make predictions\n",
        "outputs = model(images)\n",
        "_, predicted = torch.max(outputs, 1)\n",
        "\n",
        "# Plot results\n",
        "fig, axes = plt.subplots(1, 5, figsize=(12, 3))\n",
        "for i in range(5):\n",
        "    # Convert image from tensor to numpy and reshape for display\n",
        "    img = images[i].cpu().reshape(28, 28)\n",
        "    true_label = labels[i].item()\n",
        "    pred_label = predicted[i].item()\n",
        "\n",
        "    # Display image\n",
        "    axes[i].imshow(img, cmap='gray')\n",
        "\n",
        "    # Set title as \"Correct\" or \"Incorrect\" with labels\n",
        "    title_color = \"green\" if pred_label == true_label else \"red\"\n",
        "    axes[i].set_title(f\"Pred: {pred_label}, True: {true_label}\", color=title_color)\n",
        "    axes[i].axis('off')  # Hide axes for a cleaner look\n",
        "\n",
        "plt.suptitle(\"Model Predictions on Test Images\")\n",
        "plt.show()"
      ],
      "metadata": {
        "colab": {
          "base_uri": "https://localhost:8080/",
          "height": 262
        },
        "id": "Wnc-jEaiFgBl",
        "outputId": "06dcab9a-26a8-4d94-8ecb-dc2f1a4e5b41"
      },
      "execution_count": 10,
      "outputs": [
        {
          "output_type": "display_data",
          "data": {
            "text/plain": [
              "<Figure size 1200x300 with 5 Axes>"
            ],
            "image/png": "[encoded data removed]"
          },
          "metadata": {}
        }
      ]
    }
  ]
}